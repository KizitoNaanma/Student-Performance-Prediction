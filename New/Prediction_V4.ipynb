{
 "cells": [
  {
   "cell_type": "code",
   "execution_count": 1,
   "metadata": {},
   "outputs": [
    {
     "name": "stderr",
     "output_type": "stream",
     "text": [
      "/Users/DPRS/opt/anaconda3/lib/python3.7/site-packages/statsmodels/tools/_testing.py:19: FutureWarning: pandas.util.testing is deprecated. Use the functions in the public API at pandas.testing instead.\n",
      "  import pandas.util.testing as tm\n"
     ]
    }
   ],
   "source": [
    "#importing all the required libraries\n",
    "import numpy as np\n",
    "import pandas as pd\n",
    "import matplotlib.pyplot as plt\n",
    "%matplotlib inline\n",
    "import seaborn as sns"
   ]
  },
  {
   "cell_type": "code",
   "execution_count": 2,
   "metadata": {},
   "outputs": [],
   "source": [
    "# conda list\n",
    "from tensorflow import keras"
   ]
  },
  {
   "cell_type": "code",
   "execution_count": 3,
   "metadata": {},
   "outputs": [
    {
     "data": {
      "text/plain": [
       "'2.5.0'"
      ]
     },
     "execution_count": 3,
     "metadata": {},
     "output_type": "execute_result"
    }
   ],
   "source": [
    "keras.__version__"
   ]
  },
  {
   "cell_type": "code",
   "execution_count": 4,
   "metadata": {},
   "outputs": [],
   "source": [
    "# import np_utils\n",
    "from tensorflow.keras import regularizers\n",
    "from tensorflow.keras.models import Sequential,load_model\n",
    "from sklearn import preprocessing\n",
    "from tensorflow.keras.layers import Dense, Dropout"
   ]
  },
  {
   "cell_type": "code",
   "execution_count": 5,
   "metadata": {},
   "outputs": [],
   "source": [
    "from sklearn.preprocessing import LabelEncoder\n",
    "from sklearn.model_selection import train_test_split"
   ]
  },
  {
   "cell_type": "code",
   "execution_count": 6,
   "metadata": {},
   "outputs": [],
   "source": [
    "import zipfile\n",
    "from sklearn.metrics import confusion_matrix\n",
    "from sklearn.model_selection import train_test_split"
   ]
  },
  {
   "cell_type": "code",
   "execution_count": 7,
   "metadata": {},
   "outputs": [],
   "source": [
    "df = pd.read_csv('newfinal.csv')"
   ]
  },
  {
   "cell_type": "code",
   "execution_count": 8,
   "metadata": {},
   "outputs": [
    {
     "data": {
      "text/html": [
       "<div>\n",
       "<style scoped>\n",
       "    .dataframe tbody tr th:only-of-type {\n",
       "        vertical-align: middle;\n",
       "    }\n",
       "\n",
       "    .dataframe tbody tr th {\n",
       "        vertical-align: top;\n",
       "    }\n",
       "\n",
       "    .dataframe thead th {\n",
       "        text-align: right;\n",
       "    }\n",
       "</style>\n",
       "<table border=\"1\" class=\"dataframe\">\n",
       "  <thead>\n",
       "    <tr style=\"text-align: right;\">\n",
       "      <th></th>\n",
       "      <th>PK</th>\n",
       "      <th>NS</th>\n",
       "      <th>GENDER</th>\n",
       "      <th>STUDY TIME</th>\n",
       "      <th>RESOUCES</th>\n",
       "      <th>ABSENCES</th>\n",
       "      <th>EXTRA CLASS</th>\n",
       "      <th>MD</th>\n",
       "      <th>FACILITIES</th>\n",
       "      <th>201C.A</th>\n",
       "      <th>201 EXAM</th>\n",
       "      <th>202C.A</th>\n",
       "      <th>202 EXAM</th>\n",
       "      <th>305C.A</th>\n",
       "      <th>305 EXAM</th>\n",
       "    </tr>\n",
       "  </thead>\n",
       "  <tbody>\n",
       "    <tr>\n",
       "      <th>0</th>\n",
       "      <td>yes</td>\n",
       "      <td>no</td>\n",
       "      <td>M</td>\n",
       "      <td>5</td>\n",
       "      <td>yes</td>\n",
       "      <td>89</td>\n",
       "      <td>no</td>\n",
       "      <td>P</td>\n",
       "      <td>A</td>\n",
       "      <td>10</td>\n",
       "      <td>7</td>\n",
       "      <td>18</td>\n",
       "      <td>4</td>\n",
       "      <td>18</td>\n",
       "      <td>4</td>\n",
       "    </tr>\n",
       "    <tr>\n",
       "      <th>1</th>\n",
       "      <td>no</td>\n",
       "      <td>no</td>\n",
       "      <td>M</td>\n",
       "      <td>1</td>\n",
       "      <td>no</td>\n",
       "      <td>11</td>\n",
       "      <td>yes</td>\n",
       "      <td>T</td>\n",
       "      <td>A</td>\n",
       "      <td>27</td>\n",
       "      <td>54</td>\n",
       "      <td>20</td>\n",
       "      <td>20</td>\n",
       "      <td>20</td>\n",
       "      <td>20</td>\n",
       "    </tr>\n",
       "    <tr>\n",
       "      <th>2</th>\n",
       "      <td>no</td>\n",
       "      <td>yes</td>\n",
       "      <td>M</td>\n",
       "      <td>1</td>\n",
       "      <td>yes</td>\n",
       "      <td>100</td>\n",
       "      <td>yes</td>\n",
       "      <td>T</td>\n",
       "      <td>A</td>\n",
       "      <td>16</td>\n",
       "      <td>25</td>\n",
       "      <td>23</td>\n",
       "      <td>45</td>\n",
       "      <td>23</td>\n",
       "      <td>45</td>\n",
       "    </tr>\n",
       "    <tr>\n",
       "      <th>3</th>\n",
       "      <td>yes</td>\n",
       "      <td>yes</td>\n",
       "      <td>M</td>\n",
       "      <td>4</td>\n",
       "      <td>yes</td>\n",
       "      <td>13</td>\n",
       "      <td>no</td>\n",
       "      <td>P</td>\n",
       "      <td>A</td>\n",
       "      <td>19</td>\n",
       "      <td>27</td>\n",
       "      <td>18</td>\n",
       "      <td>22</td>\n",
       "      <td>18</td>\n",
       "      <td>22</td>\n",
       "    </tr>\n",
       "    <tr>\n",
       "      <th>4</th>\n",
       "      <td>yes</td>\n",
       "      <td>no</td>\n",
       "      <td>M</td>\n",
       "      <td>3</td>\n",
       "      <td>no</td>\n",
       "      <td>18</td>\n",
       "      <td>yes</td>\n",
       "      <td>T</td>\n",
       "      <td>A</td>\n",
       "      <td>19</td>\n",
       "      <td>24</td>\n",
       "      <td>21</td>\n",
       "      <td>29</td>\n",
       "      <td>21</td>\n",
       "      <td>29</td>\n",
       "    </tr>\n",
       "  </tbody>\n",
       "</table>\n",
       "</div>"
      ],
      "text/plain": [
       "    PK   NS GENDER  STUDY TIME RESOUCES  ABSENCES EXTRA CLASS MD FACILITIES  \\\n",
       "0  yes   no      M           5      yes        89          no  P          A   \n",
       "1   no   no      M           1       no        11         yes  T          A   \n",
       "2   no  yes      M           1      yes       100         yes  T          A   \n",
       "3  yes  yes      M           4      yes        13          no  P          A   \n",
       "4  yes   no      M           3       no        18         yes  T          A   \n",
       "\n",
       "   201C.A  201 EXAM  202C.A  202 EXAM  305C.A  305 EXAM  \n",
       "0      10         7      18         4      18         4  \n",
       "1      27        54      20        20      20        20  \n",
       "2      16        25      23        45      23        45  \n",
       "3      19        27      18        22      18        22  \n",
       "4      19        24      21        29      21        29  "
      ]
     },
     "execution_count": 8,
     "metadata": {},
     "output_type": "execute_result"
    }
   ],
   "source": [
    "df.head()"
   ]
  },
  {
   "cell_type": "code",
   "execution_count": 9,
   "metadata": {},
   "outputs": [
    {
     "data": {
      "text/plain": [
       "array(['P', 'T', 'PT'], dtype=object)"
      ]
     },
     "execution_count": 9,
     "metadata": {},
     "output_type": "execute_result"
    }
   ],
   "source": [
    "df['MD'].unique()"
   ]
  },
  {
   "cell_type": "code",
   "execution_count": 10,
   "metadata": {},
   "outputs": [
    {
     "data": {
      "text/plain": [
       "Index(['PK', 'NS', 'GENDER', 'STUDY TIME', 'RESOUCES', 'ABSENCES',\n",
       "       'EXTRA CLASS', 'MD', 'FACILITIES', '201C.A', '201 EXAM', '202C.A',\n",
       "       '202 EXAM', '305C.A', '305 EXAM'],\n",
       "      dtype='object')"
      ]
     },
     "execution_count": 10,
     "metadata": {},
     "output_type": "execute_result"
    }
   ],
   "source": [
    "df.columns"
   ]
  },
  {
   "cell_type": "code",
   "execution_count": 11,
   "metadata": {},
   "outputs": [
    {
     "data": {
      "text/plain": [
       "0       4\n",
       "1      20\n",
       "2      45\n",
       "3      22\n",
       "4      29\n",
       "       ..\n",
       "100    32\n",
       "101    21\n",
       "102    17\n",
       "103    22\n",
       "104    45\n",
       "Name: 305 EXAM, Length: 105, dtype: int64"
      ]
     },
     "execution_count": 11,
     "metadata": {},
     "output_type": "execute_result"
    }
   ],
   "source": [
    "df_target = df['305 EXAM']\n",
    "df_target"
   ]
  },
  {
   "cell_type": "code",
   "execution_count": 12,
   "metadata": {},
   "outputs": [],
   "source": [
    "# dropping taget variable\n",
    "df.drop(['305 EXAM'],axis=1,inplace=True)"
   ]
  },
  {
   "cell_type": "code",
   "execution_count": 13,
   "metadata": {},
   "outputs": [],
   "source": [
    "# droping corelated columns for model complexity\n",
    "df.drop(['PK', 'NS','FACILITIES','ABSENCES'], axis=1, inplace=True)"
   ]
  },
  {
   "cell_type": "code",
   "execution_count": 14,
   "metadata": {},
   "outputs": [
    {
     "name": "stdout",
     "output_type": "stream",
     "text": [
      "10\n"
     ]
    },
    {
     "data": {
      "text/plain": [
       "Index(['GENDER', 'STUDY TIME', 'RESOUCES', 'EXTRA CLASS', 'MD', '201C.A',\n",
       "       '201 EXAM', '202C.A', '202 EXAM', '305C.A'],\n",
       "      dtype='object')"
      ]
     },
     "execution_count": 14,
     "metadata": {},
     "output_type": "execute_result"
    }
   ],
   "source": [
    "print(len(df.columns))\n",
    "df.columns"
   ]
  },
  {
   "cell_type": "code",
   "execution_count": 15,
   "metadata": {},
   "outputs": [],
   "source": [
    "# dividing dataset into numerical and categorical dataset\n",
    "num_df = df.loc[:,df.dtypes!=np.object]\n",
    "cat_df = df.loc[:,df.dtypes==np.object]"
   ]
  },
  {
   "cell_type": "code",
   "execution_count": 16,
   "metadata": {},
   "outputs": [
    {
     "data": {
      "text/html": [
       "<div>\n",
       "<style scoped>\n",
       "    .dataframe tbody tr th:only-of-type {\n",
       "        vertical-align: middle;\n",
       "    }\n",
       "\n",
       "    .dataframe tbody tr th {\n",
       "        vertical-align: top;\n",
       "    }\n",
       "\n",
       "    .dataframe thead th {\n",
       "        text-align: right;\n",
       "    }\n",
       "</style>\n",
       "<table border=\"1\" class=\"dataframe\">\n",
       "  <thead>\n",
       "    <tr style=\"text-align: right;\">\n",
       "      <th></th>\n",
       "      <th>GENDER</th>\n",
       "      <th>RESOUCES</th>\n",
       "      <th>EXTRA CLASS</th>\n",
       "      <th>MD</th>\n",
       "    </tr>\n",
       "  </thead>\n",
       "  <tbody>\n",
       "    <tr>\n",
       "      <th>0</th>\n",
       "      <td>M</td>\n",
       "      <td>yes</td>\n",
       "      <td>no</td>\n",
       "      <td>P</td>\n",
       "    </tr>\n",
       "    <tr>\n",
       "      <th>1</th>\n",
       "      <td>M</td>\n",
       "      <td>no</td>\n",
       "      <td>yes</td>\n",
       "      <td>T</td>\n",
       "    </tr>\n",
       "    <tr>\n",
       "      <th>2</th>\n",
       "      <td>M</td>\n",
       "      <td>yes</td>\n",
       "      <td>yes</td>\n",
       "      <td>T</td>\n",
       "    </tr>\n",
       "    <tr>\n",
       "      <th>3</th>\n",
       "      <td>M</td>\n",
       "      <td>yes</td>\n",
       "      <td>no</td>\n",
       "      <td>P</td>\n",
       "    </tr>\n",
       "    <tr>\n",
       "      <th>4</th>\n",
       "      <td>M</td>\n",
       "      <td>no</td>\n",
       "      <td>yes</td>\n",
       "      <td>T</td>\n",
       "    </tr>\n",
       "    <tr>\n",
       "      <th>5</th>\n",
       "      <td>F</td>\n",
       "      <td>yes</td>\n",
       "      <td>no</td>\n",
       "      <td>P</td>\n",
       "    </tr>\n",
       "    <tr>\n",
       "      <th>6</th>\n",
       "      <td>F</td>\n",
       "      <td>no</td>\n",
       "      <td>yes</td>\n",
       "      <td>PT</td>\n",
       "    </tr>\n",
       "    <tr>\n",
       "      <th>7</th>\n",
       "      <td>M</td>\n",
       "      <td>no</td>\n",
       "      <td>yes</td>\n",
       "      <td>PT</td>\n",
       "    </tr>\n",
       "    <tr>\n",
       "      <th>8</th>\n",
       "      <td>F</td>\n",
       "      <td>no</td>\n",
       "      <td>yes</td>\n",
       "      <td>T</td>\n",
       "    </tr>\n",
       "    <tr>\n",
       "      <th>9</th>\n",
       "      <td>M</td>\n",
       "      <td>yes</td>\n",
       "      <td>no</td>\n",
       "      <td>T</td>\n",
       "    </tr>\n",
       "  </tbody>\n",
       "</table>\n",
       "</div>"
      ],
      "text/plain": [
       "  GENDER RESOUCES EXTRA CLASS  MD\n",
       "0      M      yes          no   P\n",
       "1      M       no         yes   T\n",
       "2      M      yes         yes   T\n",
       "3      M      yes          no   P\n",
       "4      M       no         yes   T\n",
       "5      F      yes          no   P\n",
       "6      F       no         yes  PT\n",
       "7      M       no         yes  PT\n",
       "8      F       no         yes   T\n",
       "9      M      yes          no   T"
      ]
     },
     "execution_count": 16,
     "metadata": {},
     "output_type": "execute_result"
    }
   ],
   "source": [
    "# num_df.head()\n",
    "cat_df.head(10)"
   ]
  },
  {
   "cell_type": "code",
   "execution_count": 17,
   "metadata": {},
   "outputs": [],
   "source": [
    "le = LabelEncoder()"
   ]
  },
  {
   "cell_type": "code",
   "execution_count": 18,
   "metadata": {},
   "outputs": [
    {
     "data": {
      "text/html": [
       "<div>\n",
       "<style scoped>\n",
       "    .dataframe tbody tr th:only-of-type {\n",
       "        vertical-align: middle;\n",
       "    }\n",
       "\n",
       "    .dataframe tbody tr th {\n",
       "        vertical-align: top;\n",
       "    }\n",
       "\n",
       "    .dataframe thead th {\n",
       "        text-align: right;\n",
       "    }\n",
       "</style>\n",
       "<table border=\"1\" class=\"dataframe\">\n",
       "  <thead>\n",
       "    <tr style=\"text-align: right;\">\n",
       "      <th></th>\n",
       "      <th>GENDER</th>\n",
       "      <th>RESOUCES</th>\n",
       "      <th>EXTRA CLASS</th>\n",
       "      <th>MD</th>\n",
       "    </tr>\n",
       "  </thead>\n",
       "  <tbody>\n",
       "    <tr>\n",
       "      <th>0</th>\n",
       "      <td>1</td>\n",
       "      <td>1</td>\n",
       "      <td>0</td>\n",
       "      <td>0</td>\n",
       "    </tr>\n",
       "    <tr>\n",
       "      <th>1</th>\n",
       "      <td>1</td>\n",
       "      <td>0</td>\n",
       "      <td>1</td>\n",
       "      <td>2</td>\n",
       "    </tr>\n",
       "    <tr>\n",
       "      <th>2</th>\n",
       "      <td>1</td>\n",
       "      <td>1</td>\n",
       "      <td>1</td>\n",
       "      <td>2</td>\n",
       "    </tr>\n",
       "    <tr>\n",
       "      <th>3</th>\n",
       "      <td>1</td>\n",
       "      <td>1</td>\n",
       "      <td>0</td>\n",
       "      <td>0</td>\n",
       "    </tr>\n",
       "    <tr>\n",
       "      <th>4</th>\n",
       "      <td>1</td>\n",
       "      <td>0</td>\n",
       "      <td>1</td>\n",
       "      <td>2</td>\n",
       "    </tr>\n",
       "    <tr>\n",
       "      <th>5</th>\n",
       "      <td>0</td>\n",
       "      <td>1</td>\n",
       "      <td>0</td>\n",
       "      <td>0</td>\n",
       "    </tr>\n",
       "    <tr>\n",
       "      <th>6</th>\n",
       "      <td>0</td>\n",
       "      <td>0</td>\n",
       "      <td>1</td>\n",
       "      <td>1</td>\n",
       "    </tr>\n",
       "    <tr>\n",
       "      <th>7</th>\n",
       "      <td>1</td>\n",
       "      <td>0</td>\n",
       "      <td>1</td>\n",
       "      <td>1</td>\n",
       "    </tr>\n",
       "    <tr>\n",
       "      <th>8</th>\n",
       "      <td>0</td>\n",
       "      <td>0</td>\n",
       "      <td>1</td>\n",
       "      <td>2</td>\n",
       "    </tr>\n",
       "    <tr>\n",
       "      <th>9</th>\n",
       "      <td>1</td>\n",
       "      <td>1</td>\n",
       "      <td>0</td>\n",
       "      <td>2</td>\n",
       "    </tr>\n",
       "  </tbody>\n",
       "</table>\n",
       "</div>"
      ],
      "text/plain": [
       "   GENDER  RESOUCES  EXTRA CLASS  MD\n",
       "0       1         1            0   0\n",
       "1       1         0            1   2\n",
       "2       1         1            1   2\n",
       "3       1         1            0   0\n",
       "4       1         0            1   2\n",
       "5       0         1            0   0\n",
       "6       0         0            1   1\n",
       "7       1         0            1   1\n",
       "8       0         0            1   2\n",
       "9       1         1            0   2"
      ]
     },
     "execution_count": 18,
     "metadata": {},
     "output_type": "execute_result"
    }
   ],
   "source": [
    "cat_df = cat_df.apply(le.fit_transform)\n",
    "cat_df.head(10)"
   ]
  },
  {
   "cell_type": "code",
   "execution_count": 19,
   "metadata": {},
   "outputs": [
    {
     "data": {
      "text/plain": [
       "array(['P', 'PT', 'T'], dtype=object)"
      ]
     },
     "execution_count": 19,
     "metadata": {},
     "output_type": "execute_result"
    }
   ],
   "source": [
    "le.classes_"
   ]
  },
  {
   "cell_type": "code",
   "execution_count": 20,
   "metadata": {},
   "outputs": [],
   "source": [
    "import joblib"
   ]
  },
  {
   "cell_type": "code",
   "execution_count": 21,
   "metadata": {},
   "outputs": [],
   "source": [
    "# saving label enconder\n",
    "# output = open('../Desktop/labelEncoder.pkl', 'wb')\n",
    "# joblib.dump(le, output)\n",
    "# output.close()"
   ]
  },
  {
   "cell_type": "code",
   "execution_count": 22,
   "metadata": {},
   "outputs": [],
   "source": [
    "df = num_df.join(cat_df)"
   ]
  },
  {
   "cell_type": "code",
   "execution_count": 23,
   "metadata": {},
   "outputs": [
    {
     "data": {
      "text/html": [
       "<div>\n",
       "<style scoped>\n",
       "    .dataframe tbody tr th:only-of-type {\n",
       "        vertical-align: middle;\n",
       "    }\n",
       "\n",
       "    .dataframe tbody tr th {\n",
       "        vertical-align: top;\n",
       "    }\n",
       "\n",
       "    .dataframe thead th {\n",
       "        text-align: right;\n",
       "    }\n",
       "</style>\n",
       "<table border=\"1\" class=\"dataframe\">\n",
       "  <thead>\n",
       "    <tr style=\"text-align: right;\">\n",
       "      <th></th>\n",
       "      <th>STUDY TIME</th>\n",
       "      <th>201C.A</th>\n",
       "      <th>201 EXAM</th>\n",
       "      <th>202C.A</th>\n",
       "      <th>202 EXAM</th>\n",
       "      <th>305C.A</th>\n",
       "      <th>GENDER</th>\n",
       "      <th>RESOUCES</th>\n",
       "      <th>EXTRA CLASS</th>\n",
       "      <th>MD</th>\n",
       "    </tr>\n",
       "  </thead>\n",
       "  <tbody>\n",
       "    <tr>\n",
       "      <th>0</th>\n",
       "      <td>5</td>\n",
       "      <td>10</td>\n",
       "      <td>7</td>\n",
       "      <td>18</td>\n",
       "      <td>4</td>\n",
       "      <td>18</td>\n",
       "      <td>1</td>\n",
       "      <td>1</td>\n",
       "      <td>0</td>\n",
       "      <td>0</td>\n",
       "    </tr>\n",
       "    <tr>\n",
       "      <th>1</th>\n",
       "      <td>1</td>\n",
       "      <td>27</td>\n",
       "      <td>54</td>\n",
       "      <td>20</td>\n",
       "      <td>20</td>\n",
       "      <td>20</td>\n",
       "      <td>1</td>\n",
       "      <td>0</td>\n",
       "      <td>1</td>\n",
       "      <td>2</td>\n",
       "    </tr>\n",
       "    <tr>\n",
       "      <th>2</th>\n",
       "      <td>1</td>\n",
       "      <td>16</td>\n",
       "      <td>25</td>\n",
       "      <td>23</td>\n",
       "      <td>45</td>\n",
       "      <td>23</td>\n",
       "      <td>1</td>\n",
       "      <td>1</td>\n",
       "      <td>1</td>\n",
       "      <td>2</td>\n",
       "    </tr>\n",
       "    <tr>\n",
       "      <th>3</th>\n",
       "      <td>4</td>\n",
       "      <td>19</td>\n",
       "      <td>27</td>\n",
       "      <td>18</td>\n",
       "      <td>22</td>\n",
       "      <td>18</td>\n",
       "      <td>1</td>\n",
       "      <td>1</td>\n",
       "      <td>0</td>\n",
       "      <td>0</td>\n",
       "    </tr>\n",
       "    <tr>\n",
       "      <th>4</th>\n",
       "      <td>3</td>\n",
       "      <td>19</td>\n",
       "      <td>24</td>\n",
       "      <td>21</td>\n",
       "      <td>29</td>\n",
       "      <td>21</td>\n",
       "      <td>1</td>\n",
       "      <td>0</td>\n",
       "      <td>1</td>\n",
       "      <td>2</td>\n",
       "    </tr>\n",
       "  </tbody>\n",
       "</table>\n",
       "</div>"
      ],
      "text/plain": [
       "   STUDY TIME  201C.A  201 EXAM  202C.A  202 EXAM  305C.A  GENDER  RESOUCES  \\\n",
       "0           5      10         7      18         4      18       1         1   \n",
       "1           1      27        54      20        20      20       1         0   \n",
       "2           1      16        25      23        45      23       1         1   \n",
       "3           4      19        27      18        22      18       1         1   \n",
       "4           3      19        24      21        29      21       1         0   \n",
       "\n",
       "   EXTRA CLASS  MD  \n",
       "0            0   0  \n",
       "1            1   2  \n",
       "2            1   2  \n",
       "3            0   0  \n",
       "4            1   2  "
      ]
     },
     "execution_count": 23,
     "metadata": {},
     "output_type": "execute_result"
    }
   ],
   "source": [
    "# df.info()\n",
    "df.head()"
   ]
  },
  {
   "cell_type": "code",
   "execution_count": 24,
   "metadata": {},
   "outputs": [
    {
     "data": {
      "text/plain": [
       "<matplotlib.axes._subplots.AxesSubplot at 0x7fc094d3e990>"
      ]
     },
     "execution_count": 24,
     "metadata": {},
     "output_type": "execute_result"
    },
    {
     "data": {
      "image/png": "[encoded data removed]",
      "text/plain": [
       "<Figure size 1008x720 with 2 Axes>"
      ]
     },
     "metadata": {
      "needs_background": "light"
     },
     "output_type": "display_data"
    }
   ],
   "source": [
    "corr = df.corr()\n",
    "# corr.style.background_gradient(cmap='coolwarm').set_precision(2)\n",
    "plt.figure(figsize = (14,10))\n",
    "sns.heatmap(corr, annot=True)"
   ]
  },
  {
   "cell_type": "code",
   "execution_count": 24,
   "metadata": {},
   "outputs": [],
   "source": [
    "X_train, X_test, y_train, y_test = train_test_split(df, df_target, test_size=0.3,random_state=109)"
   ]
  },
  {
   "cell_type": "code",
   "execution_count": 39,
   "metadata": {},
   "outputs": [
    {
     "data": {
      "text/html": [
       "<div>\n",
       "<style scoped>\n",
       "    .dataframe tbody tr th:only-of-type {\n",
       "        vertical-align: middle;\n",
       "    }\n",
       "\n",
       "    .dataframe tbody tr th {\n",
       "        vertical-align: top;\n",
       "    }\n",
       "\n",
       "    .dataframe thead th {\n",
       "        text-align: right;\n",
       "    }\n",
       "</style>\n",
       "<table border=\"1\" class=\"dataframe\">\n",
       "  <thead>\n",
       "    <tr style=\"text-align: right;\">\n",
       "      <th></th>\n",
       "      <th>STUDY TIME</th>\n",
       "      <th>201C.A</th>\n",
       "      <th>201 EXAM</th>\n",
       "      <th>202C.A</th>\n",
       "      <th>202 EXAM</th>\n",
       "      <th>305C.A</th>\n",
       "      <th>GENDER</th>\n",
       "      <th>RESOUCES</th>\n",
       "      <th>EXTRA CLASS</th>\n",
       "      <th>MD</th>\n",
       "    </tr>\n",
       "  </thead>\n",
       "  <tbody>\n",
       "    <tr>\n",
       "      <th>93</th>\n",
       "      <td>5</td>\n",
       "      <td>18</td>\n",
       "      <td>27</td>\n",
       "      <td>20</td>\n",
       "      <td>4</td>\n",
       "      <td>20</td>\n",
       "      <td>0</td>\n",
       "      <td>1</td>\n",
       "      <td>1</td>\n",
       "      <td>2</td>\n",
       "    </tr>\n",
       "    <tr>\n",
       "      <th>68</th>\n",
       "      <td>2</td>\n",
       "      <td>19</td>\n",
       "      <td>27</td>\n",
       "      <td>20</td>\n",
       "      <td>20</td>\n",
       "      <td>20</td>\n",
       "      <td>1</td>\n",
       "      <td>0</td>\n",
       "      <td>0</td>\n",
       "      <td>0</td>\n",
       "    </tr>\n",
       "    <tr>\n",
       "      <th>92</th>\n",
       "      <td>3</td>\n",
       "      <td>21</td>\n",
       "      <td>47</td>\n",
       "      <td>22</td>\n",
       "      <td>18</td>\n",
       "      <td>22</td>\n",
       "      <td>0</td>\n",
       "      <td>1</td>\n",
       "      <td>1</td>\n",
       "      <td>0</td>\n",
       "    </tr>\n",
       "    <tr>\n",
       "      <th>80</th>\n",
       "      <td>1</td>\n",
       "      <td>20</td>\n",
       "      <td>42</td>\n",
       "      <td>20</td>\n",
       "      <td>20</td>\n",
       "      <td>20</td>\n",
       "      <td>1</td>\n",
       "      <td>0</td>\n",
       "      <td>0</td>\n",
       "      <td>0</td>\n",
       "    </tr>\n",
       "    <tr>\n",
       "      <th>77</th>\n",
       "      <td>1</td>\n",
       "      <td>16</td>\n",
       "      <td>24</td>\n",
       "      <td>21</td>\n",
       "      <td>59</td>\n",
       "      <td>21</td>\n",
       "      <td>0</td>\n",
       "      <td>0</td>\n",
       "      <td>0</td>\n",
       "      <td>1</td>\n",
       "    </tr>\n",
       "  </tbody>\n",
       "</table>\n",
       "</div>"
      ],
      "text/plain": [
       "    STUDY TIME  201C.A  201 EXAM  202C.A  202 EXAM  305C.A  GENDER  RESOUCES  \\\n",
       "93           5      18        27      20         4      20       0         1   \n",
       "68           2      19        27      20        20      20       1         0   \n",
       "92           3      21        47      22        18      22       0         1   \n",
       "80           1      20        42      20        20      20       1         0   \n",
       "77           1      16        24      21        59      21       0         0   \n",
       "\n",
       "    EXTRA CLASS  MD  \n",
       "93            1   2  \n",
       "68            0   0  \n",
       "92            1   0  \n",
       "80            0   0  \n",
       "77            0   1  "
      ]
     },
     "execution_count": 39,
     "metadata": {},
     "output_type": "execute_result"
    }
   ],
   "source": [
    "X_train.head()"
   ]
  },
  {
   "cell_type": "code",
   "execution_count": 26,
   "metadata": {},
   "outputs": [],
   "source": [
    "#Perform one hot encoding\n",
    "# X_train = pd.get_dummies(X_train)\n",
    "# X_test = pd.get_dummies(X_test)\n",
    "# y_train  = pd.get_dummies(y_train)\n",
    "# y_test  = pd.get_dummies(y_test)"
   ]
  },
  {
   "cell_type": "markdown",
   "metadata": {},
   "source": [
    "NUERAL NETWORKS MODEL"
   ]
  },
  {
   "cell_type": "code",
   "execution_count": 27,
   "metadata": {},
   "outputs": [
    {
     "name": "stdout",
     "output_type": "stream",
     "text": [
      "Epoch 1/200\n",
      "WARNING:tensorflow:Gradients do not exist for variables ['dense/bias:0', 'dense_1/bias:0', 'dense_2/bias:0'] when minimizing the loss.\n",
      "WARNING:tensorflow:Gradients do not exist for variables ['dense/bias:0', 'dense_1/bias:0', 'dense_2/bias:0'] when minimizing the loss.\n",
      "15/15 [==============================] - 1s 14ms/step - loss: 0.1154 - accuracy: 0.0685 - val_loss: 0.1038 - val_accuracy: 0.0312\n",
      "Epoch 2/200\n",
      "15/15 [==============================] - 0s 5ms/step - loss: 0.0947 - accuracy: 0.0822 - val_loss: 0.0848 - val_accuracy: 0.0312\n",
      "Epoch 3/200\n",
      "15/15 [==============================] - 0s 6ms/step - loss: 0.0771 - accuracy: 0.0822 - val_loss: 0.0689 - val_accuracy: 0.0312\n",
      "Epoch 4/200\n",
      "15/15 [==============================] - 0s 6ms/step - loss: 0.0626 - accuracy: 0.0822 - val_loss: 0.0558 - val_accuracy: 0.0312\n",
      "Epoch 5/200\n",
      "15/15 [==============================] - 0s 6ms/step - loss: 0.0506 - accuracy: 0.0822 - val_loss: 0.0450 - val_accuracy: 0.0312\n",
      "Epoch 6/200\n",
      "15/15 [==============================] - 0s 6ms/step - loss: 0.0408 - accuracy: 0.0822 - val_loss: 0.0362 - val_accuracy: 0.0312\n",
      "Epoch 7/200\n",
      "15/15 [==============================] - 0s 6ms/step - loss: 0.0327 - accuracy: 0.0822 - val_loss: 0.0290 - val_accuracy: 0.0312\n",
      "Epoch 8/200\n",
      "15/15 [==============================] - 0s 4ms/step - loss: 0.0261 - accuracy: 0.0822 - val_loss: 0.0231 - val_accuracy: 0.0312\n",
      "Epoch 9/200\n",
      "15/15 [==============================] - 0s 7ms/step - loss: 0.0208 - accuracy: 0.0822 - val_loss: 0.0183 - val_accuracy: 0.0312\n",
      "Epoch 10/200\n",
      "15/15 [==============================] - 0s 4ms/step - loss: 0.0164 - accuracy: 0.0822 - val_loss: 0.0145 - val_accuracy: 0.0312\n",
      "Epoch 11/200\n",
      "15/15 [==============================] - 0s 5ms/step - loss: 0.0130 - accuracy: 0.0822 - val_loss: 0.0114 - val_accuracy: 0.0312\n",
      "Epoch 12/200\n",
      "15/15 [==============================] - 0s 5ms/step - loss: 0.0102 - accuracy: 0.0822 - val_loss: 0.0089 - val_accuracy: 0.0312\n",
      "Epoch 13/200\n",
      "15/15 [==============================] - 0s 5ms/step - loss: 0.0079 - accuracy: 0.0822 - val_loss: 0.0069 - val_accuracy: 0.0312\n",
      "Epoch 14/200\n",
      "15/15 [==============================] - 0s 5ms/step - loss: 0.0062 - accuracy: 0.0822 - val_loss: 0.0054 - val_accuracy: 0.0312\n",
      "Epoch 15/200\n",
      "15/15 [==============================] - 0s 5ms/step - loss: 0.0048 - accuracy: 0.0822 - val_loss: 0.0041 - val_accuracy: 0.0312\n",
      "Epoch 16/200\n",
      "15/15 [==============================] - 0s 5ms/step - loss: 0.0037 - accuracy: 0.0822 - val_loss: 0.0032 - val_accuracy: 0.0312\n",
      "Epoch 17/200\n",
      "15/15 [==============================] - 0s 5ms/step - loss: 0.0028 - accuracy: 0.0822 - val_loss: 0.0024 - val_accuracy: 0.0312\n",
      "Epoch 18/200\n",
      "15/15 [==============================] - 0s 4ms/step - loss: 0.0022 - accuracy: 0.0822 - val_loss: 0.0019 - val_accuracy: 0.0312\n",
      "Epoch 19/200\n",
      "15/15 [==============================] - 0s 5ms/step - loss: 0.0016 - accuracy: 0.0959 - val_loss: 0.0014 - val_accuracy: 0.0625\n",
      "Epoch 20/200\n",
      "15/15 [==============================] - 0s 5ms/step - loss: 0.0012 - accuracy: 0.0959 - val_loss: 0.0011 - val_accuracy: 0.0625\n",
      "Epoch 21/200\n",
      "15/15 [==============================] - 0s 5ms/step - loss: 9.3396e-04 - accuracy: 0.0959 - val_loss: 7.9921e-04 - val_accuracy: 0.0625\n",
      "Epoch 22/200\n",
      "15/15 [==============================] - 0s 6ms/step - loss: 7.0094e-04 - accuracy: 0.0822 - val_loss: 5.9845e-04 - val_accuracy: 0.0625\n",
      "Epoch 23/200\n",
      "15/15 [==============================] - 0s 5ms/step - loss: 5.2393e-04 - accuracy: 0.0685 - val_loss: 4.4632e-04 - val_accuracy: 0.0625\n",
      "Epoch 24/200\n",
      "15/15 [==============================] - 0s 6ms/step - loss: 3.9006e-04 - accuracy: 0.0685 - val_loss: 3.3155e-04 - val_accuracy: 0.0625\n",
      "Epoch 25/200\n",
      "15/15 [==============================] - 0s 9ms/step - loss: 2.8927e-04 - accuracy: 0.0548 - val_loss: 2.4535e-04 - val_accuracy: 0.0625\n",
      "Epoch 26/200\n",
      "15/15 [==============================] - 0s 4ms/step - loss: 2.1370e-04 - accuracy: 0.0548 - val_loss: 1.8087e-04 - val_accuracy: 0.0625\n",
      "Epoch 27/200\n",
      "15/15 [==============================] - 0s 6ms/step - loss: 1.5727e-04 - accuracy: 0.0411 - val_loss: 1.3284e-04 - val_accuracy: 0.0625\n",
      "Epoch 28/200\n",
      "15/15 [==============================] - 0s 6ms/step - loss: 1.1532e-04 - accuracy: 0.0411 - val_loss: 9.7203e-05 - val_accuracy: 0.0625\n",
      "Epoch 29/200\n",
      "15/15 [==============================] - 0s 4ms/step - loss: 8.4250e-05 - accuracy: 0.0137 - val_loss: 7.0870e-05 - val_accuracy: 0.0312\n",
      "Epoch 30/200\n",
      "15/15 [==============================] - 0s 6ms/step - loss: 6.1329e-05 - accuracy: 0.0137 - val_loss: 5.1486e-05 - val_accuracy: 0.0312\n",
      "Epoch 31/200\n",
      "15/15 [==============================] - 0s 6ms/step - loss: 4.4484e-05 - accuracy: 0.0137 - val_loss: 3.7270e-05 - val_accuracy: 0.0312\n",
      "Epoch 32/200\n",
      "15/15 [==============================] - 0s 7ms/step - loss: 3.2152e-05 - accuracy: 0.0137 - val_loss: 2.6884e-05 - val_accuracy: 0.0312\n",
      "Epoch 33/200\n",
      "15/15 [==============================] - 0s 7ms/step - loss: 2.3156e-05 - accuracy: 0.0137 - val_loss: 1.9324e-05 - val_accuracy: 0.0312\n",
      "Epoch 34/200\n",
      "15/15 [==============================] - 0s 5ms/step - loss: 1.6618e-05 - accuracy: 0.0137 - val_loss: 1.3841e-05 - val_accuracy: 0.0312\n",
      "Epoch 35/200\n",
      "15/15 [==============================] - 0s 6ms/step - loss: 1.1885e-05 - accuracy: 0.0137 - val_loss: 9.8786e-06 - val_accuracy: 0.0312\n",
      "Epoch 36/200\n",
      "15/15 [==============================] - 0s 5ms/step - loss: 8.4692e-06 - accuracy: 0.0137 - val_loss: 7.0256e-06 - val_accuracy: 0.0312\n",
      "Epoch 37/200\n",
      "15/15 [==============================] - 0s 6ms/step - loss: 6.0139e-06 - accuracy: 0.0137 - val_loss: 4.9788e-06 - val_accuracy: 0.0312\n",
      "Epoch 38/200\n",
      "15/15 [==============================] - 0s 5ms/step - loss: 4.2551e-06 - accuracy: 0.0137 - val_loss: 3.5156e-06 - val_accuracy: 0.0312\n",
      "Epoch 39/200\n",
      "15/15 [==============================] - 0s 8ms/step - loss: 2.9998e-06 - accuracy: 0.0137 - val_loss: 2.4734e-06 - val_accuracy: 0.0312\n",
      "Epoch 40/200\n",
      "15/15 [==============================] - 0s 7ms/step - loss: 2.1072e-06 - accuracy: 0.0137 - val_loss: 1.7338e-06 - val_accuracy: 0.0312\n",
      "Epoch 41/200\n",
      "15/15 [==============================] - 0s 7ms/step - loss: 1.4747e-06 - accuracy: 0.0137 - val_loss: 1.2108e-06 - val_accuracy: 0.0312\n",
      "Epoch 42/200\n",
      "15/15 [==============================] - 0s 9ms/step - loss: 1.0282e-06 - accuracy: 0.0137 - val_loss: 8.4242e-07 - val_accuracy: 0.0312\n",
      "Epoch 43/200\n",
      "15/15 [==============================] - 0s 7ms/step - loss: 7.1414e-07 - accuracy: 0.0137 - val_loss: 5.8386e-07 - val_accuracy: 0.0312\n",
      "Epoch 44/200\n",
      "15/15 [==============================] - 0s 7ms/step - loss: 4.9411e-07 - accuracy: 0.0137 - val_loss: 4.0308e-07 - val_accuracy: 0.0312\n",
      "Epoch 45/200\n",
      "15/15 [==============================] - 0s 5ms/step - loss: 3.4053e-07 - accuracy: 0.0137 - val_loss: 2.7718e-07 - val_accuracy: 0.0312\n",
      "Epoch 46/200\n",
      "15/15 [==============================] - 0s 7ms/step - loss: 2.3376e-07 - accuracy: 0.0137 - val_loss: 1.8983e-07 - val_accuracy: 0.0312\n",
      "Epoch 47/200\n",
      "15/15 [==============================] - 0s 11ms/step - loss: 1.5981e-07 - accuracy: 0.0137 - val_loss: 1.2948e-07 - val_accuracy: 0.0312\n",
      "Epoch 48/200\n",
      "15/15 [==============================] - 0s 12ms/step - loss: 1.0881e-07 - accuracy: 0.0137 - val_loss: 8.7947e-08 - val_accuracy: 0.0312\n",
      "Epoch 49/200\n",
      "15/15 [==============================] - 0s 7ms/step - loss: 7.3769e-08 - accuracy: 0.0137 - val_loss: 5.9483e-08 - val_accuracy: 0.0312\n",
      "Epoch 50/200\n",
      "15/15 [==============================] - 0s 4ms/step - loss: 4.9800e-08 - accuracy: 0.0137 - val_loss: 4.0058e-08 - val_accuracy: 0.0312\n",
      "Epoch 51/200\n",
      "15/15 [==============================] - 0s 8ms/step - loss: 3.3473e-08 - accuracy: 0.0137 - val_loss: 2.6857e-08 - val_accuracy: 0.0312\n",
      "Epoch 52/200\n",
      "15/15 [==============================] - 0s 11ms/step - loss: 2.2399e-08 - accuracy: 0.0137 - val_loss: 1.7926e-08 - val_accuracy: 0.0312\n",
      "Epoch 53/200\n",
      "15/15 [==============================] - 0s 7ms/step - loss: 1.4921e-08 - accuracy: 0.0137 - val_loss: 1.1911e-08 - val_accuracy: 0.0312\n",
      "Epoch 54/200\n",
      "15/15 [==============================] - 0s 13ms/step - loss: 9.8939e-09 - accuracy: 0.0137 - val_loss: 7.8767e-09 - val_accuracy: 0.0312\n"
     ]
    },
    {
     "name": "stdout",
     "output_type": "stream",
     "text": [
      "Epoch 55/200\n",
      "15/15 [==============================] - 0s 6ms/step - loss: 6.5297e-09 - accuracy: 0.0137 - val_loss: 5.1844e-09 - val_accuracy: 0.0312\n",
      "Epoch 56/200\n",
      "15/15 [==============================] - 0s 7ms/step - loss: 4.2889e-09 - accuracy: 0.0137 - val_loss: 3.3959e-09 - val_accuracy: 0.0312\n",
      "Epoch 57/200\n",
      "15/15 [==============================] - 0s 6ms/step - loss: 2.8034e-09 - accuracy: 0.0137 - val_loss: 2.2135e-09 - val_accuracy: 0.0312\n",
      "Epoch 58/200\n",
      "15/15 [==============================] - 0s 12ms/step - loss: 1.8233e-09 - accuracy: 0.0137 - val_loss: 1.4355e-09 - val_accuracy: 0.0312\n",
      "Epoch 59/200\n",
      "15/15 [==============================] - 0s 10ms/step - loss: 1.1799e-09 - accuracy: 0.0137 - val_loss: 9.2628e-10 - val_accuracy: 0.0000e+00\n",
      "Epoch 60/200\n",
      "15/15 [==============================] - 0s 8ms/step - loss: 7.5966e-10 - accuracy: 0.0000e+00 - val_loss: 5.9459e-10 - val_accuracy: 0.0000e+00\n",
      "Epoch 61/200\n",
      "15/15 [==============================] - 0s 6ms/step - loss: 4.8653e-10 - accuracy: 0.0000e+00 - val_loss: 3.7966e-10 - val_accuracy: 0.0000e+00\n",
      "Epoch 62/200\n",
      "15/15 [==============================] - 0s 6ms/step - loss: 3.0995e-10 - accuracy: 0.0000e+00 - val_loss: 2.4113e-10 - val_accuracy: 0.0000e+00\n",
      "Epoch 63/200\n",
      "15/15 [==============================] - 0s 6ms/step - loss: 1.9639e-10 - accuracy: 0.0000e+00 - val_loss: 1.5231e-10 - val_accuracy: 0.0000e+00\n",
      "Epoch 64/200\n",
      "15/15 [==============================] - 0s 13ms/step - loss: 1.2376e-10 - accuracy: 0.0000e+00 - val_loss: 9.5675e-11 - val_accuracy: 0.0000e+00\n",
      "Epoch 65/200\n",
      "15/15 [==============================] - 0s 7ms/step - loss: 7.7554e-11 - accuracy: 0.0000e+00 - val_loss: 5.9761e-11 - val_accuracy: 0.0000e+00\n",
      "Epoch 66/200\n",
      "15/15 [==============================] - 0s 12ms/step - loss: 4.8324e-11 - accuracy: 0.0000e+00 - val_loss: 3.7115e-11 - val_accuracy: 0.0000e+00\n",
      "Epoch 67/200\n",
      "15/15 [==============================] - 0s 8ms/step - loss: 2.9937e-11 - accuracy: 0.0000e+00 - val_loss: 2.2916e-11 - val_accuracy: 0.0000e+00\n",
      "Epoch 68/200\n",
      "15/15 [==============================] - 0s 4ms/step - loss: 1.8438e-11 - accuracy: 0.0000e+00 - val_loss: 1.4066e-11 - val_accuracy: 0.0000e+00\n",
      "Epoch 69/200\n",
      "15/15 [==============================] - 0s 4ms/step - loss: 1.1289e-11 - accuracy: 0.0000e+00 - val_loss: 8.5823e-12 - val_accuracy: 0.0000e+00\n",
      "Epoch 70/200\n",
      "15/15 [==============================] - 0s 4ms/step - loss: 6.8698e-12 - accuracy: 0.0000e+00 - val_loss: 5.2045e-12 - val_accuracy: 0.0000e+00\n",
      "Epoch 71/200\n",
      "15/15 [==============================] - 0s 4ms/step - loss: 4.1551e-12 - accuracy: 0.0000e+00 - val_loss: 3.1367e-12 - val_accuracy: 0.0000e+00\n",
      "Epoch 72/200\n",
      "15/15 [==============================] - 0s 5ms/step - loss: 2.4976e-12 - accuracy: 0.0000e+00 - val_loss: 1.8786e-12 - val_accuracy: 0.0000e+00\n",
      "Epoch 73/200\n",
      "15/15 [==============================] - 0s 4ms/step - loss: 1.4918e-12 - accuracy: 0.0000e+00 - val_loss: 1.1180e-12 - val_accuracy: 0.0000e+00\n",
      "Epoch 74/200\n",
      "15/15 [==============================] - 0s 4ms/step - loss: 8.8538e-13 - accuracy: 0.0000e+00 - val_loss: 6.6104e-13 - val_accuracy: 0.0000e+00\n",
      "Epoch 75/200\n",
      "15/15 [==============================] - 0s 4ms/step - loss: 5.2206e-13 - accuracy: 0.0000e+00 - val_loss: 3.8831e-13 - val_accuracy: 0.0000e+00\n",
      "Epoch 76/200\n",
      "15/15 [==============================] - 0s 5ms/step - loss: 3.0581e-13 - accuracy: 0.0000e+00 - val_loss: 2.2659e-13 - val_accuracy: 0.0000e+00\n",
      "Epoch 77/200\n",
      "15/15 [==============================] - 0s 4ms/step - loss: 1.7794e-13 - accuracy: 0.0000e+00 - val_loss: 1.3133e-13 - val_accuracy: 0.0000e+00\n",
      "Epoch 78/200\n",
      "15/15 [==============================] - 0s 4ms/step - loss: 1.0284e-13 - accuracy: 0.0000e+00 - val_loss: 7.5603e-14 - val_accuracy: 0.0000e+00\n",
      "Epoch 79/200\n",
      "15/15 [==============================] - 0s 3ms/step - loss: 5.9031e-14 - accuracy: 0.0000e+00 - val_loss: 4.3222e-14 - val_accuracy: 0.0000e+00\n",
      "Epoch 80/200\n",
      "15/15 [==============================] - 0s 4ms/step - loss: 3.3648e-14 - accuracy: 0.0000e+00 - val_loss: 2.4537e-14 - val_accuracy: 0.0000e+00\n",
      "Epoch 81/200\n",
      "15/15 [==============================] - 0s 4ms/step - loss: 1.9045e-14 - accuracy: 0.0000e+00 - val_loss: 1.3830e-14 - val_accuracy: 0.0000e+00\n",
      "Epoch 82/200\n",
      "15/15 [==============================] - 0s 4ms/step - loss: 1.0703e-14 - accuracy: 0.0000e+00 - val_loss: 7.7396e-15 - val_accuracy: 0.0000e+00\n",
      "Epoch 83/200\n",
      "15/15 [==============================] - 0s 4ms/step - loss: 5.9711e-15 - accuracy: 0.0000e+00 - val_loss: 4.2996e-15 - val_accuracy: 0.0000e+00\n",
      "Epoch 84/200\n",
      "15/15 [==============================] - 0s 4ms/step - loss: 3.3069e-15 - accuracy: 0.0000e+00 - val_loss: 2.3709e-15 - val_accuracy: 0.0000e+00\n",
      "Epoch 85/200\n",
      "15/15 [==============================] - 0s 4ms/step - loss: 1.8178e-15 - accuracy: 0.0000e+00 - val_loss: 1.2976e-15 - val_accuracy: 0.0000e+00\n",
      "Epoch 86/200\n",
      "15/15 [==============================] - 0s 4ms/step - loss: 9.9174e-16 - accuracy: 0.0000e+00 - val_loss: 7.0479e-16 - val_accuracy: 0.0000e+00\n",
      "Epoch 87/200\n",
      "15/15 [==============================] - 0s 4ms/step - loss: 5.3693e-16 - accuracy: 0.0000e+00 - val_loss: 3.7985e-16 - val_accuracy: 0.0000e+00\n",
      "Epoch 88/200\n",
      "15/15 [==============================] - 0s 5ms/step - loss: 2.8845e-16 - accuracy: 0.0000e+00 - val_loss: 2.0313e-16 - val_accuracy: 0.0000e+00\n",
      "Epoch 89/200\n",
      "15/15 [==============================] - 0s 5ms/step - loss: 1.5374e-16 - accuracy: 0.0000e+00 - val_loss: 1.0776e-16 - val_accuracy: 0.0000e+00\n",
      "Epoch 90/200\n",
      "15/15 [==============================] - 0s 5ms/step - loss: 8.1291e-17 - accuracy: 0.0000e+00 - val_loss: 5.6710e-17 - val_accuracy: 0.0000e+00\n",
      "Epoch 91/200\n",
      "15/15 [==============================] - 0s 4ms/step - loss: 4.2636e-17 - accuracy: 0.0000e+00 - val_loss: 2.9601e-17 - val_accuracy: 0.0000e+00\n",
      "Epoch 92/200\n",
      "15/15 [==============================] - 0s 4ms/step - loss: 2.2179e-17 - accuracy: 0.0000e+00 - val_loss: 1.5323e-17 - val_accuracy: 0.0000e+00\n",
      "Epoch 93/200\n",
      "15/15 [==============================] - 0s 5ms/step - loss: 1.1441e-17 - accuracy: 0.0000e+00 - val_loss: 7.8655e-18 - val_accuracy: 0.0000e+00\n",
      "Epoch 94/200\n",
      "15/15 [==============================] - 0s 4ms/step - loss: 5.8522e-18 - accuracy: 0.0000e+00 - val_loss: 4.0030e-18 - val_accuracy: 0.0000e+00\n",
      "Epoch 95/200\n",
      "15/15 [==============================] - 0s 5ms/step - loss: 2.9679e-18 - accuracy: 0.0000e+00 - val_loss: 2.0197e-18 - val_accuracy: 0.0000e+00\n",
      "Epoch 96/200\n",
      "15/15 [==============================] - 0s 5ms/step - loss: 1.4920e-18 - accuracy: 0.0000e+00 - val_loss: 1.0101e-18 - val_accuracy: 0.0000e+00\n",
      "Epoch 97/200\n",
      "15/15 [==============================] - 0s 4ms/step - loss: 7.4344e-19 - accuracy: 0.0000e+00 - val_loss: 5.0063e-19 - val_accuracy: 0.0000e+00\n",
      "Epoch 98/200\n",
      "15/15 [==============================] - 0s 5ms/step - loss: 3.6712e-19 - accuracy: 0.0000e+00 - val_loss: 2.4589e-19 - val_accuracy: 0.0000e+00\n",
      "Epoch 99/200\n",
      "15/15 [==============================] - ETA: 0s - loss: 2.4589e-19 - accuracy: 0.0000e+ - 0s 4ms/step - loss: 1.7964e-19 - accuracy: 0.0000e+00 - val_loss: 1.1966e-19 - val_accuracy: 0.0000e+00\n",
      "Epoch 100/200\n",
      "15/15 [==============================] - 0s 5ms/step - loss: 8.7087e-20 - accuracy: 0.0000e+00 - val_loss: 5.7686e-20 - val_accuracy: 0.0000e+00\n",
      "Epoch 101/200\n",
      "15/15 [==============================] - 0s 6ms/step - loss: 4.1821e-20 - accuracy: 0.0000e+00 - val_loss: 2.7545e-20 - val_accuracy: 0.0000e+00\n",
      "Epoch 102/200\n",
      "15/15 [==============================] - 0s 5ms/step - loss: 1.9891e-20 - accuracy: 0.0000e+00 - val_loss: 1.3025e-20 - val_accuracy: 0.0000e+00\n",
      "Epoch 103/200\n",
      "15/15 [==============================] - 0s 6ms/step - loss: 9.3686e-21 - accuracy: 0.0000e+00 - val_loss: 6.0988e-21 - val_accuracy: 0.0000e+00\n",
      "Epoch 104/200\n",
      "15/15 [==============================] - 0s 4ms/step - loss: 4.3689e-21 - accuracy: 0.0000e+00 - val_loss: 2.8270e-21 - val_accuracy: 0.0000e+00\n",
      "Epoch 105/200\n",
      "15/15 [==============================] - 0s 4ms/step - loss: 2.0168e-21 - accuracy: 0.0000e+00 - val_loss: 1.2970e-21 - val_accuracy: 0.0312\n",
      "Epoch 106/200\n",
      "15/15 [==============================] - 0s 4ms/step - loss: 9.2145e-22 - accuracy: 0.0000e+00 - val_loss: 5.8891e-22 - val_accuracy: 0.0312\n"
     ]
    },
    {
     "name": "stdout",
     "output_type": "stream",
     "text": [
      "Epoch 107/200\n",
      "15/15 [==============================] - 0s 4ms/step - loss: 4.1660e-22 - accuracy: 0.0000e+00 - val_loss: 2.6456e-22 - val_accuracy: 0.0312\n",
      "Epoch 108/200\n",
      "15/15 [==============================] - 0s 6ms/step - loss: 1.8634e-22 - accuracy: 0.0000e+00 - val_loss: 1.1757e-22 - val_accuracy: 0.0312\n",
      "Epoch 109/200\n",
      "15/15 [==============================] - 0s 6ms/step - loss: 8.2444e-23 - accuracy: 0.0000e+00 - val_loss: 5.1670e-23 - val_accuracy: 0.0312\n",
      "Epoch 110/200\n",
      "15/15 [==============================] - 0s 5ms/step - loss: 3.6072e-23 - accuracy: 0.0000e+00 - val_loss: 2.2454e-23 - val_accuracy: 0.0312\n",
      "Epoch 111/200\n",
      "15/15 [==============================] - 0s 5ms/step - loss: 1.5604e-23 - accuracy: 0.0000e+00 - val_loss: 9.6461e-24 - val_accuracy: 0.0312\n",
      "Epoch 112/200\n",
      "15/15 [==============================] - 0s 5ms/step - loss: 6.6724e-24 - accuracy: 0.0000e+00 - val_loss: 4.0954e-24 - val_accuracy: 0.0312\n",
      "Epoch 113/200\n",
      "15/15 [==============================] - 0s 5ms/step - loss: 2.8195e-24 - accuracy: 0.0000e+00 - val_loss: 1.7180e-24 - val_accuracy: 0.0312\n",
      "Epoch 114/200\n",
      "15/15 [==============================] - 0s 6ms/step - loss: 1.1770e-24 - accuracy: 0.0000e+00 - val_loss: 7.1188e-25 - val_accuracy: 0.0312\n",
      "Epoch 115/200\n",
      "15/15 [==============================] - 0s 4ms/step - loss: 4.8533e-25 - accuracy: 0.0000e+00 - val_loss: 2.9130e-25 - val_accuracy: 0.0312\n",
      "Epoch 116/200\n",
      "15/15 [==============================] - 0s 4ms/step - loss: 1.9760e-25 - accuracy: 0.0000e+00 - val_loss: 1.1767e-25 - val_accuracy: 0.0312\n",
      "Epoch 117/200\n",
      "15/15 [==============================] - 0s 5ms/step - loss: 7.9411e-26 - accuracy: 0.0000e+00 - val_loss: 4.6912e-26 - val_accuracy: 0.0312\n",
      "Epoch 118/200\n",
      "15/15 [==============================] - 0s 6ms/step - loss: 3.1492e-26 - accuracy: 0.0000e+00 - val_loss: 1.8451e-26 - val_accuracy: 0.0312\n",
      "Epoch 119/200\n",
      "15/15 [==============================] - 0s 4ms/step - loss: 1.2320e-26 - accuracy: 0.0000e+00 - val_loss: 7.1572e-27 - val_accuracy: 0.0312\n",
      "Epoch 120/200\n",
      "15/15 [==============================] - 0s 5ms/step - loss: 4.7527e-27 - accuracy: 0.0000e+00 - val_loss: 2.7370e-27 - val_accuracy: 0.0312\n",
      "Epoch 121/200\n",
      "15/15 [==============================] - 0s 7ms/step - loss: 1.8073e-27 - accuracy: 0.0000e+00 - val_loss: 1.0315e-27 - val_accuracy: 0.0312\n",
      "Epoch 122/200\n",
      "15/15 [==============================] - 0s 5ms/step - loss: 6.7716e-28 - accuracy: 0.0000e+00 - val_loss: 3.8291e-28 - val_accuracy: 0.0312\n",
      "Epoch 123/200\n",
      "15/15 [==============================] - 0s 5ms/step - loss: 2.4989e-28 - accuracy: 0.0000e+00 - val_loss: 1.3996e-28 - val_accuracy: 0.0312\n",
      "Epoch 124/200\n",
      "15/15 [==============================] - 0s 6ms/step - loss: 9.0783e-29 - accuracy: 0.0000e+00 - val_loss: 5.0345e-29 - val_accuracy: 0.0312\n",
      "Epoch 125/200\n",
      "15/15 [==============================] - 0s 5ms/step - loss: 3.2452e-29 - accuracy: 0.0000e+00 - val_loss: 1.7814e-29 - val_accuracy: 0.0312\n",
      "Epoch 126/200\n",
      "15/15 [==============================] - 0s 5ms/step - loss: 1.1409e-29 - accuracy: 0.0000e+00 - val_loss: 6.1964e-30 - val_accuracy: 0.0312\n",
      "Epoch 127/200\n",
      "15/15 [==============================] - 0s 4ms/step - loss: 3.9421e-30 - accuracy: 0.0000e+00 - val_loss: 2.1176e-30 - val_accuracy: 0.0312\n",
      "Epoch 128/200\n",
      "15/15 [==============================] - 0s 5ms/step - loss: 1.3380e-30 - accuracy: 0.0000e+00 - val_loss: 7.1057e-31 - val_accuracy: 0.0312\n",
      "Epoch 129/200\n",
      "15/15 [==============================] - 0s 5ms/step - loss: 4.4576e-31 - accuracy: 0.0000e+00 - val_loss: 2.3393e-31 - val_accuracy: 0.0312\n",
      "Epoch 130/200\n",
      "15/15 [==============================] - 0s 4ms/step - loss: 1.4567e-31 - accuracy: 0.0000e+00 - val_loss: 7.5503e-32 - val_accuracy: 0.0312\n",
      "Epoch 131/200\n",
      "15/15 [==============================] - 0s 4ms/step - loss: 4.6658e-32 - accuracy: 0.0000e+00 - val_loss: 2.3870e-32 - val_accuracy: 0.0312\n",
      "Epoch 132/200\n",
      "15/15 [==============================] - 0s 4ms/step - loss: 1.4634e-32 - accuracy: 0.0000e+00 - val_loss: 7.3849e-33 - val_accuracy: 0.0312\n",
      "Epoch 133/200\n",
      "15/15 [==============================] - 0s 5ms/step - loss: 4.4897e-33 - accuracy: 0.0000e+00 - val_loss: 2.2334e-33 - val_accuracy: 0.0312\n",
      "Epoch 134/200\n",
      "15/15 [==============================] - 0s 6ms/step - loss: 1.3460e-33 - accuracy: 0.0000e+00 - val_loss: 6.5946e-34 - val_accuracy: 0.0312\n",
      "Epoch 135/200\n",
      "15/15 [==============================] - 0s 7ms/step - loss: 3.9381e-34 - accuracy: 0.0000e+00 - val_loss: 1.8986e-34 - val_accuracy: 0.0312\n",
      "Epoch 136/200\n",
      "15/15 [==============================] - 0s 4ms/step - loss: 1.1228e-34 - accuracy: 0.0000e+00 - val_loss: 5.3210e-35 - val_accuracy: 0.0312\n",
      "Epoch 137/200\n",
      "15/15 [==============================] - 0s 4ms/step - loss: 3.1148e-35 - accuracy: 0.0000e+00 - val_loss: 1.4491e-35 - val_accuracy: 0.0312\n",
      "Epoch 138/200\n",
      "15/15 [==============================] - 0s 4ms/step - loss: 8.3905e-36 - accuracy: 0.0000e+00 - val_loss: 3.8267e-36 - val_accuracy: 0.0312\n",
      "Epoch 139/200\n",
      "15/15 [==============================] - 0s 5ms/step - loss: 2.1898e-36 - accuracy: 0.0000e+00 - val_loss: 9.7736e-37 - val_accuracy: 0.0312\n",
      "Epoch 140/200\n",
      "15/15 [==============================] - 0s 6ms/step - loss: 5.5224e-37 - accuracy: 0.0000e+00 - val_loss: 2.4069e-37 - val_accuracy: 0.0312\n",
      "Epoch 141/200\n",
      "15/15 [==============================] - 0s 4ms/step - loss: 1.3411e-37 - accuracy: 0.0000e+00 - val_loss: 5.6921e-38 - val_accuracy: 0.0312\n",
      "Epoch 142/200\n",
      "15/15 [==============================] - 0s 5ms/step - loss: 3.1220e-38 - accuracy: 0.0000e+00 - val_loss: 1.2842e-38 - val_accuracy: 0.0312\n",
      "Epoch 143/200\n",
      "15/15 [==============================] - 0s 5ms/step - loss: 0.0000e+00 - accuracy: 0.0000e+00 - val_loss: 0.0000e+00 - val_accuracy: 0.0312\n",
      "Epoch 144/200\n",
      "15/15 [==============================] - 0s 6ms/step - loss: 0.0000e+00 - accuracy: 0.0000e+00 - val_loss: 0.0000e+00 - val_accuracy: 0.0312\n",
      "Epoch 145/200\n",
      "15/15 [==============================] - 0s 5ms/step - loss: 0.0000e+00 - accuracy: 0.0000e+00 - val_loss: 0.0000e+00 - val_accuracy: 0.0312\n",
      "Epoch 146/200\n",
      "15/15 [==============================] - 0s 4ms/step - loss: 0.0000e+00 - accuracy: 0.0000e+00 - val_loss: 0.0000e+00 - val_accuracy: 0.0312\n",
      "Epoch 147/200\n",
      "15/15 [==============================] - 0s 4ms/step - loss: 0.0000e+00 - accuracy: 0.0000e+00 - val_loss: 0.0000e+00 - val_accuracy: 0.0312\n",
      "Epoch 148/200\n",
      "15/15 [==============================] - 0s 5ms/step - loss: 0.0000e+00 - accuracy: 0.0000e+00 - val_loss: 0.0000e+00 - val_accuracy: 0.0312\n",
      "Epoch 149/200\n",
      "15/15 [==============================] - 0s 5ms/step - loss: 0.0000e+00 - accuracy: 0.0000e+00 - val_loss: 0.0000e+00 - val_accuracy: 0.0312\n",
      "Epoch 150/200\n",
      "15/15 [==============================] - 0s 5ms/step - loss: 0.0000e+00 - accuracy: 0.0000e+00 - val_loss: 0.0000e+00 - val_accuracy: 0.0312\n",
      "Epoch 151/200\n",
      "15/15 [==============================] - 0s 5ms/step - loss: 0.0000e+00 - accuracy: 0.0000e+00 - val_loss: 0.0000e+00 - val_accuracy: 0.0312\n",
      "Epoch 152/200\n",
      "15/15 [==============================] - 0s 5ms/step - loss: 0.0000e+00 - accuracy: 0.0000e+00 - val_loss: 0.0000e+00 - val_accuracy: 0.0312\n",
      "Epoch 153/200\n",
      "15/15 [==============================] - 0s 4ms/step - loss: 0.0000e+00 - accuracy: 0.0000e+00 - val_loss: 0.0000e+00 - val_accuracy: 0.0312\n",
      "Epoch 154/200\n",
      "15/15 [==============================] - 0s 4ms/step - loss: 0.0000e+00 - accuracy: 0.0000e+00 - val_loss: 0.0000e+00 - val_accuracy: 0.0312\n",
      "Epoch 155/200\n",
      "15/15 [==============================] - 0s 5ms/step - loss: 0.0000e+00 - accuracy: 0.0000e+00 - val_loss: 0.0000e+00 - val_accuracy: 0.0312\n",
      "Epoch 156/200\n",
      "15/15 [==============================] - 0s 5ms/step - loss: 0.0000e+00 - accuracy: 0.0000e+00 - val_loss: 0.0000e+00 - val_accuracy: 0.0312\n",
      "Epoch 157/200\n",
      "15/15 [==============================] - 0s 4ms/step - loss: 0.0000e+00 - accuracy: 0.0000e+00 - val_loss: 0.0000e+00 - val_accuracy: 0.0312\n",
      "Epoch 158/200\n",
      "15/15 [==============================] - 0s 4ms/step - loss: 0.0000e+00 - accuracy: 0.0000e+00 - val_loss: 0.0000e+00 - val_accuracy: 0.0312\n",
      "Epoch 159/200\n",
      "15/15 [==============================] - 0s 4ms/step - loss: 0.0000e+00 - accuracy: 0.0000e+00 - val_loss: 0.0000e+00 - val_accuracy: 0.0312\n"
     ]
    },
    {
     "name": "stdout",
     "output_type": "stream",
     "text": [
      "Epoch 160/200\n",
      "15/15 [==============================] - 0s 6ms/step - loss: 0.0000e+00 - accuracy: 0.0000e+00 - val_loss: 0.0000e+00 - val_accuracy: 0.0312\n",
      "Epoch 161/200\n",
      "15/15 [==============================] - 0s 7ms/step - loss: 0.0000e+00 - accuracy: 0.0000e+00 - val_loss: 0.0000e+00 - val_accuracy: 0.0312\n",
      "Epoch 162/200\n",
      "15/15 [==============================] - 0s 5ms/step - loss: 0.0000e+00 - accuracy: 0.0000e+00 - val_loss: 0.0000e+00 - val_accuracy: 0.0312\n",
      "Epoch 163/200\n",
      "15/15 [==============================] - 0s 5ms/step - loss: 0.0000e+00 - accuracy: 0.0000e+00 - val_loss: 0.0000e+00 - val_accuracy: 0.0312\n",
      "Epoch 164/200\n",
      "15/15 [==============================] - 0s 7ms/step - loss: 0.0000e+00 - accuracy: 0.0000e+00 - val_loss: 0.0000e+00 - val_accuracy: 0.0312\n",
      "Epoch 165/200\n",
      "15/15 [==============================] - 0s 5ms/step - loss: 0.0000e+00 - accuracy: 0.0000e+00 - val_loss: 0.0000e+00 - val_accuracy: 0.0312\n",
      "Epoch 166/200\n",
      "15/15 [==============================] - 0s 4ms/step - loss: 0.0000e+00 - accuracy: 0.0000e+00 - val_loss: 0.0000e+00 - val_accuracy: 0.0312\n",
      "Epoch 167/200\n",
      "15/15 [==============================] - 0s 4ms/step - loss: 0.0000e+00 - accuracy: 0.0000e+00 - val_loss: 0.0000e+00 - val_accuracy: 0.0312\n",
      "Epoch 168/200\n",
      "15/15 [==============================] - 0s 5ms/step - loss: 0.0000e+00 - accuracy: 0.0000e+00 - val_loss: 0.0000e+00 - val_accuracy: 0.0312\n",
      "Epoch 169/200\n",
      "15/15 [==============================] - 0s 5ms/step - loss: 0.0000e+00 - accuracy: 0.0000e+00 - val_loss: 0.0000e+00 - val_accuracy: 0.0312\n",
      "Epoch 170/200\n",
      "15/15 [==============================] - 0s 6ms/step - loss: 0.0000e+00 - accuracy: 0.0000e+00 - val_loss: 0.0000e+00 - val_accuracy: 0.0312\n",
      "Epoch 171/200\n",
      "15/15 [==============================] - 0s 5ms/step - loss: 0.0000e+00 - accuracy: 0.0000e+00 - val_loss: 0.0000e+00 - val_accuracy: 0.0312\n",
      "Epoch 172/200\n",
      "15/15 [==============================] - 0s 4ms/step - loss: 0.0000e+00 - accuracy: 0.0000e+00 - val_loss: 0.0000e+00 - val_accuracy: 0.0312\n",
      "Epoch 173/200\n",
      "15/15 [==============================] - 0s 4ms/step - loss: 0.0000e+00 - accuracy: 0.0000e+00 - val_loss: 0.0000e+00 - val_accuracy: 0.0312\n",
      "Epoch 174/200\n",
      "15/15 [==============================] - 0s 4ms/step - loss: 0.0000e+00 - accuracy: 0.0000e+00 - val_loss: 0.0000e+00 - val_accuracy: 0.0312\n",
      "Epoch 175/200\n",
      "15/15 [==============================] - 0s 7ms/step - loss: 0.0000e+00 - accuracy: 0.0000e+00 - val_loss: 0.0000e+00 - val_accuracy: 0.0312\n",
      "Epoch 176/200\n",
      "15/15 [==============================] - 0s 9ms/step - loss: 0.0000e+00 - accuracy: 0.0000e+00 - val_loss: 0.0000e+00 - val_accuracy: 0.0312\n",
      "Epoch 177/200\n",
      "15/15 [==============================] - 0s 7ms/step - loss: 0.0000e+00 - accuracy: 0.0000e+00 - val_loss: 0.0000e+00 - val_accuracy: 0.0312\n",
      "Epoch 178/200\n",
      "15/15 [==============================] - 0s 8ms/step - loss: 0.0000e+00 - accuracy: 0.0000e+00 - val_loss: 0.0000e+00 - val_accuracy: 0.0312\n",
      "Epoch 179/200\n",
      "15/15 [==============================] - 0s 7ms/step - loss: 0.0000e+00 - accuracy: 0.0000e+00 - val_loss: 0.0000e+00 - val_accuracy: 0.0312\n",
      "Epoch 180/200\n",
      "15/15 [==============================] - 0s 6ms/step - loss: 0.0000e+00 - accuracy: 0.0000e+00 - val_loss: 0.0000e+00 - val_accuracy: 0.0312\n",
      "Epoch 181/200\n",
      "15/15 [==============================] - 0s 7ms/step - loss: 0.0000e+00 - accuracy: 0.0000e+00 - val_loss: 0.0000e+00 - val_accuracy: 0.0312\n",
      "Epoch 182/200\n",
      "15/15 [==============================] - 0s 7ms/step - loss: 0.0000e+00 - accuracy: 0.0000e+00 - val_loss: 0.0000e+00 - val_accuracy: 0.0312\n",
      "Epoch 183/200\n",
      "15/15 [==============================] - 0s 8ms/step - loss: 0.0000e+00 - accuracy: 0.0000e+00 - val_loss: 0.0000e+00 - val_accuracy: 0.0312\n",
      "Epoch 184/200\n",
      "15/15 [==============================] - 0s 4ms/step - loss: 0.0000e+00 - accuracy: 0.0000e+00 - val_loss: 0.0000e+00 - val_accuracy: 0.0312\n",
      "Epoch 185/200\n",
      "15/15 [==============================] - 0s 4ms/step - loss: 0.0000e+00 - accuracy: 0.0000e+00 - val_loss: 0.0000e+00 - val_accuracy: 0.0312\n",
      "Epoch 186/200\n",
      "15/15 [==============================] - 0s 3ms/step - loss: 0.0000e+00 - accuracy: 0.0000e+00 - val_loss: 0.0000e+00 - val_accuracy: 0.0312\n",
      "Epoch 187/200\n",
      "15/15 [==============================] - 0s 4ms/step - loss: 0.0000e+00 - accuracy: 0.0000e+00 - val_loss: 0.0000e+00 - val_accuracy: 0.0312\n",
      "Epoch 188/200\n",
      "15/15 [==============================] - 0s 3ms/step - loss: 0.0000e+00 - accuracy: 0.0000e+00 - val_loss: 0.0000e+00 - val_accuracy: 0.0312\n",
      "Epoch 189/200\n",
      "15/15 [==============================] - 0s 4ms/step - loss: 0.0000e+00 - accuracy: 0.0000e+00 - val_loss: 0.0000e+00 - val_accuracy: 0.0312\n",
      "Epoch 190/200\n",
      "15/15 [==============================] - 0s 3ms/step - loss: 0.0000e+00 - accuracy: 0.0000e+00 - val_loss: 0.0000e+00 - val_accuracy: 0.0312\n",
      "Epoch 191/200\n",
      "15/15 [==============================] - 0s 3ms/step - loss: 0.0000e+00 - accuracy: 0.0000e+00 - val_loss: 0.0000e+00 - val_accuracy: 0.0312\n",
      "Epoch 192/200\n",
      "15/15 [==============================] - 0s 4ms/step - loss: 0.0000e+00 - accuracy: 0.0000e+00 - val_loss: 0.0000e+00 - val_accuracy: 0.0312\n",
      "Epoch 193/200\n",
      "15/15 [==============================] - 0s 3ms/step - loss: 0.0000e+00 - accuracy: 0.0000e+00 - val_loss: 0.0000e+00 - val_accuracy: 0.0312\n",
      "Epoch 194/200\n",
      "15/15 [==============================] - 0s 3ms/step - loss: 0.0000e+00 - accuracy: 0.0000e+00 - val_loss: 0.0000e+00 - val_accuracy: 0.0312\n",
      "Epoch 195/200\n",
      "15/15 [==============================] - 0s 3ms/step - loss: 0.0000e+00 - accuracy: 0.0000e+00 - val_loss: 0.0000e+00 - val_accuracy: 0.0312\n",
      "Epoch 196/200\n",
      "15/15 [==============================] - 0s 4ms/step - loss: 0.0000e+00 - accuracy: 0.0000e+00 - val_loss: 0.0000e+00 - val_accuracy: 0.0312\n",
      "Epoch 197/200\n",
      "15/15 [==============================] - 0s 4ms/step - loss: 0.0000e+00 - accuracy: 0.0000e+00 - val_loss: 0.0000e+00 - val_accuracy: 0.0312\n",
      "Epoch 198/200\n",
      "15/15 [==============================] - 0s 4ms/step - loss: 0.0000e+00 - accuracy: 0.0000e+00 - val_loss: 0.0000e+00 - val_accuracy: 0.0312\n",
      "Epoch 199/200\n",
      "15/15 [==============================] - 0s 13ms/step - loss: 0.0000e+00 - accuracy: 0.0000e+00 - val_loss: 0.0000e+00 - val_accuracy: 0.0312\n",
      "Epoch 200/200\n",
      "15/15 [==============================] - 0s 8ms/step - loss: 0.0000e+00 - accuracy: 0.0000e+00 - val_loss: 0.0000e+00 - val_accuracy: 0.0312\n"
     ]
    }
   ],
   "source": [
    "\n",
    "#After multiple attempts, I was able to achieve best model with below configuration.\n",
    "model = Sequential()\n",
    "model.add(Dense(64, activation='relu',  kernel_regularizer=regularizers.l2(0.001)))\n",
    "model.add(Dense(64, kernel_regularizer=regularizers.l2(0.001), activation='relu'))\n",
    "model.add(Dense(32, kernel_regularizer=regularizers.l2(0.001), activation='relu'))\n",
    "model.compile(optimizer='adam', metrics=['accuracy'])\n",
    "history  = model.fit(X_train,y_train, epochs = 200, batch_size = 5, validation_data = (X_test,y_test))"
   ]
  },
  {
   "cell_type": "code",
   "execution_count": 30,
   "metadata": {},
   "outputs": [],
   "source": [
    "model.save('keras.h5')\n",
    "# output = open('keras.pkl', 'wb')\n",
    "# joblib.dump(model, output)\n",
    "# output.close()"
   ]
  },
  {
   "cell_type": "code",
   "execution_count": 29,
   "metadata": {},
   "outputs": [
    {
     "data": {
      "text/plain": [
       "(73, 9)"
      ]
     },
     "execution_count": 29,
     "metadata": {},
     "output_type": "execute_result"
    }
   ],
   "source": [
    "X_train.shape"
   ]
  },
  {
   "cell_type": "markdown",
   "metadata": {},
   "source": [
    "RANDOM FOREST MODEL"
   ]
  },
  {
   "cell_type": "code",
   "execution_count": 31,
   "metadata": {},
   "outputs": [],
   "source": [
    "from sklearn.ensemble import RandomForestClassifier\n",
    "from sklearn.pipeline import Pipeline"
   ]
  },
  {
   "cell_type": "code",
   "execution_count": 32,
   "metadata": {},
   "outputs": [],
   "source": [
    "from sklearn import metrics\n",
    "from sklearn.model_selection import GridSearchCV"
   ]
  },
  {
   "cell_type": "code",
   "execution_count": 33,
   "metadata": {},
   "outputs": [],
   "source": [
    "rfcmodel = RandomForestClassifier()\n",
    "param_grid = { \n",
    "    'n_estimators': [200, 500],\n",
    "    'max_features': ['auto', 'sqrt', 'log2'],\n",
    "    'max_depth' : [4,5,6,7,8],\n",
    "    'criterion' :['gini', 'entropy']\n",
    "}"
   ]
  },
  {
   "cell_type": "code",
   "execution_count": 36,
   "metadata": {},
   "outputs": [],
   "source": [
    "CV_rfc = GridSearchCV(estimator=rfcmodel, param_grid=param_grid, cv= 5)"
   ]
  },
  {
   "cell_type": "code",
   "execution_count": 37,
   "metadata": {},
   "outputs": [
    {
     "name": "stderr",
     "output_type": "stream",
     "text": [
      "/Users/DPRS/opt/anaconda3/lib/python3.7/site-packages/sklearn/model_selection/_split.py:657: Warning: The least populated class in y has only 1 members, which is too few. The minimum number of members in any class cannot be less than n_splits=5.\n",
      "  % (min_groups, self.n_splits)), Warning)\n",
      "/Users/DPRS/opt/anaconda3/lib/python3.7/site-packages/sklearn/model_selection/_search.py:814: DeprecationWarning: The default of the `iid` parameter will change from True to False in version 0.22 and will be removed in 0.24. This will change numeric results when test-set sizes are unequal.\n",
      "  DeprecationWarning)\n"
     ]
    },
    {
     "data": {
      "text/plain": [
       "GridSearchCV(cv=5, error_score='raise-deprecating',\n",
       "             estimator=RandomForestClassifier(bootstrap=True, class_weight=None,\n",
       "                                              criterion='gini', max_depth=None,\n",
       "                                              max_features='auto',\n",
       "                                              max_leaf_nodes=None,\n",
       "                                              min_impurity_decrease=0.0,\n",
       "                                              min_impurity_split=None,\n",
       "                                              min_samples_leaf=1,\n",
       "                                              min_samples_split=2,\n",
       "                                              min_weight_fraction_leaf=0.0,\n",
       "                                              n_estimators='warn', n_jobs=None,\n",
       "                                              oob_score=False,\n",
       "                                              random_state=None, verbose=0,\n",
       "                                              warm_start=False),\n",
       "             iid='warn', n_jobs=None,\n",
       "             param_grid={'criterion': ['gini', 'entropy'],\n",
       "                         'max_depth': [4, 5, 6, 7, 8],\n",
       "                         'max_features': ['auto', 'sqrt', 'log2'],\n",
       "                         'n_estimators': [200, 500]},\n",
       "             pre_dispatch='2*n_jobs', refit=True, return_train_score=False,\n",
       "             scoring=None, verbose=0)"
      ]
     },
     "execution_count": 37,
     "metadata": {},
     "output_type": "execute_result"
    }
   ],
   "source": [
    "CV_rfc.fit(X_train, y_train)"
   ]
  },
  {
   "cell_type": "code",
   "execution_count": 40,
   "metadata": {},
   "outputs": [
    {
     "data": {
      "text/plain": [
       "{'criterion': 'gini',\n",
       " 'max_depth': 6,\n",
       " 'max_features': 'log2',\n",
       " 'n_estimators': 500}"
      ]
     },
     "execution_count": 40,
     "metadata": {},
     "output_type": "execute_result"
    }
   ],
   "source": [
    "CV_rfc.best_params_"
   ]
  },
  {
   "cell_type": "code",
   "execution_count": 41,
   "metadata": {},
   "outputs": [],
   "source": [
    "pipeline = Pipeline(steps=[('model', RandomForestClassifier(criterion= 'gini', \n",
    "                                                            max_depth= 6,\n",
    "                                                            max_features= 'log2',\n",
    "                                                            n_estimators= 500)\n",
    "                           )])"
   ]
  },
  {
   "cell_type": "code",
   "execution_count": 42,
   "metadata": {},
   "outputs": [
    {
     "data": {
      "text/plain": [
       "Pipeline(memory=None,\n",
       "         steps=[('model',\n",
       "                 RandomForestClassifier(bootstrap=True, class_weight=None,\n",
       "                                        criterion='gini', max_depth=6,\n",
       "                                        max_features='log2',\n",
       "                                        max_leaf_nodes=None,\n",
       "                                        min_impurity_decrease=0.0,\n",
       "                                        min_impurity_split=None,\n",
       "                                        min_samples_leaf=1, min_samples_split=2,\n",
       "                                        min_weight_fraction_leaf=0.0,\n",
       "                                        n_estimators=500, n_jobs=None,\n",
       "                                        oob_score=False, random_state=None,\n",
       "                                        verbose=0, warm_start=False))],\n",
       "         verbose=False)"
      ]
     },
     "execution_count": 42,
     "metadata": {},
     "output_type": "execute_result"
    }
   ],
   "source": [
    "pipeline.fit(X_train, y_train)"
   ]
  },
  {
   "cell_type": "code",
   "execution_count": 44,
   "metadata": {},
   "outputs": [
    {
     "name": "stdout",
     "output_type": "stream",
     "text": [
      "Accuracy: 0.25\n"
     ]
    }
   ],
   "source": [
    "y_predict = pipeline.predict(X_test)\n",
    "print(\"Accuracy:\",metrics.accuracy_score(y_test, y_predict))"
   ]
  },
  {
   "cell_type": "code",
   "execution_count": null,
   "metadata": {},
   "outputs": [],
   "source": [
    "y_predict.shape"
   ]
  },
  {
   "cell_type": "code",
   "execution_count": 45,
   "metadata": {},
   "outputs": [
    {
     "name": "stdout",
     "output_type": "stream",
     "text": [
      "Classification error is 0.75\n",
      "sensitivity is 0.25\n",
      "specificity is 0.75\n"
     ]
    }
   ],
   "source": [
    "#classification error\n",
    "print(\"Classification error is\",1- metrics.accuracy_score(y_test, y_predict, normalize = True))\n",
    "#sensitivity\n",
    "print(\"sensitivity is\", metrics.recall_score(y_test, y_predict, labels=None, average =  'micro', sample_weight=None))\n",
    "#specificity\n",
    "print(\"specificity is\", 1 - metrics.recall_score(y_test, y_predict,labels=None, average =  'micro', sample_weight=None))"
   ]
  },
  {
   "cell_type": "code",
   "execution_count": 46,
   "metadata": {},
   "outputs": [],
   "source": [
    "output = open('rfcmodel.pkl', 'wb')\n",
    "joblib.dump(pipeline, output)\n",
    "output.close()"
   ]
  },
  {
   "cell_type": "code",
   "execution_count": 47,
   "metadata": {},
   "outputs": [
    {
     "data": {
      "text/plain": [
       "array([21, 46, 45, 54, 28, 18, 21, 26, 54, 26, 40, 45,  3, 21, 21, 54, 22,\n",
       "       22, 22, 46, 46, 46, 21, 61, 20,  4,  4, 21,  4, 17, 41,  3])"
      ]
     },
     "execution_count": 47,
     "metadata": {},
     "output_type": "execute_result"
    }
   ],
   "source": [
    "y_predict"
   ]
  },
  {
   "cell_type": "code",
   "execution_count": null,
   "metadata": {},
   "outputs": [],
   "source": []
  }
 ],
 "metadata": {
  "kernelspec": {
   "display_name": "Python 3",
   "language": "python",
   "name": "python3"
  },
  "language_info": {
   "codemirror_mode": {
    "name": "ipython",
    "version": 3
   },
   "file_extension": ".py",
   "mimetype": "text/x-python",
   "name": "python",
   "nbconvert_exporter": "python",
   "pygments_lexer": "ipython3",
   "version": "3.7.4"
  }
 },
 "nbformat": 4,
 "nbformat_minor": 2
}
